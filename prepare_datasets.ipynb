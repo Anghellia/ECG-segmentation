{
 "cells": [
  {
   "cell_type": "code",
   "execution_count": null,
   "metadata": {
    "id": "2fxMtfaONUzw"
   },
   "outputs": [],
   "source": [
    "#!pip install wfdb"
   ]
  },
  {
   "cell_type": "code",
   "execution_count": null,
   "metadata": {
    "id": "1krzC1lfOeqq"
   },
   "outputs": [],
   "source": [
    "import os\n",
    "\n",
    "import wfdb\n",
    "import numpy as np\n",
    "import pandas as pd\n",
    "import matplotlib.pyplot as plt"
   ]
  },
  {
   "cell_type": "markdown",
   "metadata": {
    "id": "q4ck4SMtrPLq"
   },
   "source": [
    "# **Utils**"
   ]
  },
  {
   "cell_type": "code",
   "execution_count": null,
   "metadata": {
    "id": "fi0yv3P_sS7e"
   },
   "outputs": [],
   "source": [
    "symbol_to_label = {'p': 1, 'N': 2, 't': 3}\n",
    "\n",
    "def create_annotation_mask(atr_symbols, atr_points, size):\n",
    "    mask = np.zeros(size)\n",
    "    for symbol in ['p', 'N', 't']:\n",
    "        onset_list = np.where(atr_symbols == symbol)[0] - 1\n",
    "        for _, onset in enumerate(onset_list):\n",
    "            onset_idx = atr_points[onset]\n",
    "            try:\n",
    "                offset_idx = atr_points[onset + 2]\n",
    "                mask[onset_idx:offset_idx] = symbol_to_label[symbol]\n",
    "            except:\n",
    "                offset_idx = atr_points[-1]\n",
    "                mask[onset_idx:offset_idx] = symbol_to_label[symbol]\n",
    "    return mask"
   ]
  },
  {
   "cell_type": "markdown",
   "metadata": {
    "id": "y4ooVo3vNcOl"
   },
   "source": [
    "# **LUDB database**\n",
    "https://physionet.org/content/ludb/1.0.0/"
   ]
  },
  {
   "cell_type": "code",
   "execution_count": null,
   "metadata": {
    "id": "_gzSfvKfNeEH"
   },
   "outputs": [],
   "source": [
    "#!wget -r -N -c -np https://physionet.org/files/ludb/1.0.0/"
   ]
  },
  {
   "cell_type": "code",
   "execution_count": null,
   "metadata": {
    "id": "uWAfZl1eCCoF"
   },
   "outputs": [],
   "source": [
    "def create_LUDB_dataset(records, leads, folder_path):\n",
    "    signals_train, masks_train = [], []\n",
    "    signals_test, masks_test = [], []\n",
    "    \n",
    "    train_indexes = set(np.random.choice(200, 160, replace=False))\n",
    "    test_indexes = set(np.arange(200)) - train_indexes\n",
    "\n",
    "    for record_idx, name in enumerate(records):\n",
    "        record_path = os.path.join(folder_path, name)\n",
    "        record = wfdb.rdrecord(record_path)\n",
    "\n",
    "        for lead_idx, lead in enumerate(leads):\n",
    "\n",
    "            atr_lead = wfdb.rdann(record_path, extension=f'atr_{lead}')\n",
    "            atr_symbols = np.array(atr_lead.symbol)\n",
    "            atr_points = atr_lead.sample\n",
    "\n",
    "            lead = record.p_signal[:, lead_idx]\n",
    "            mask = create_annotation_mask(atr_symbols, atr_points, 5000)\n",
    "\n",
    "            start_idx, end_idx = 1000, 4000\n",
    "        \n",
    "            signal = lead[start_idx:end_idx]\n",
    "            mask = mask[start_idx:end_idx]\n",
    "            if record_idx in train_indexes:\n",
    "                signals_train.append(signal)\n",
    "                masks_train.append(mask)\n",
    "            else:\n",
    "                signals_test.append(signal)\n",
    "                masks_test.append(mask)\n",
    "    \n",
    "    return np.array(signals_train), np.array(masks_train), np.array(signals_test), np.array(masks_test)"
   ]
  },
  {
   "cell_type": "code",
   "execution_count": null,
   "metadata": {
    "colab": {
     "base_uri": "https://localhost:8080/"
    },
    "id": "zRW_69yWspvX",
    "outputId": "27bf0643-fc8e-4b01-87f2-e1a542a87c8e"
   },
   "outputs": [
    {
     "name": "stdout",
     "output_type": "stream",
     "text": [
      "Число ЭКГ записей: 200\n"
     ]
    }
   ],
   "source": [
    "folder_path = 'physionet.org/files/ludb/1.0.0'\n",
    "records = pd.read_csv(os.path.join(folder_path, 'RECORDS'), names=['num']).num.values.astype(str)\n",
    "leads = ['i', 'ii', 'iii', 'avr', 'avl', 'avf', 'v1', 'v2', 'v3', 'v4', 'v5', 'v6']\n",
    "print('Число ЭКГ записей:', len(records))"
   ]
  },
  {
   "cell_type": "code",
   "execution_count": null,
   "metadata": {
    "colab": {
     "base_uri": "https://localhost:8080/"
    },
    "id": "UvrwqcrUk11v",
    "outputId": "eb4602a2-edfe-4f8b-f619-42770a0b9adf"
   },
   "outputs": [
    {
     "name": "stdout",
     "output_type": "stream",
     "text": [
      "Размерность тренировочного датасета: (1920, 3000)\n",
      "Размерность тестового датасета: (480, 3000)\n"
     ]
    }
   ],
   "source": [
    "ludb_signals_train, ludb_masks_train, ludb_signals_test, ludb_masks_test = create_LUDB_dataset(records, leads, folder_path)\n",
    "print('Размерность тренировочного датасета:', ludb_signals_train.shape)\n",
    "print('Размерность тестового датасета:', ludb_signals_test.shape)"
   ]
  },
  {
   "cell_type": "code",
   "execution_count": null,
   "metadata": {
    "id": "91TAuYwwU5AC"
   },
   "outputs": [],
   "source": [
    "with open('ludb_signals_train.npy', 'wb') as f:\n",
    "    np.save(f, ludb_signals_train)\n",
    "with open('ludb_signals_test.npy', 'wb') as f:\n",
    "    np.save(f, ludb_signals_test)\n",
    "with open('ludb_masks_train.npy', 'wb') as f:\n",
    "    np.save(f, ludb_masks_train)\n",
    "with open('ludb_masks_test.npy', 'wb') as f:\n",
    "    np.save(f, ludb_masks_test)"
   ]
  },
  {
   "cell_type": "markdown",
   "metadata": {
    "id": "AM7ElbWnZeNU"
   },
   "source": [
    "# **QT database**\n",
    "https://physionet.org/content/qtdb/1.0.0/"
   ]
  },
  {
   "cell_type": "code",
   "execution_count": null,
   "metadata": {
    "id": "oIKJNBFFY9xt"
   },
   "outputs": [],
   "source": [
    "#!wget -r -N -c -np https://physionet.org/files/qtdb/1.0.0/"
   ]
  },
  {
   "cell_type": "code",
   "execution_count": null,
   "metadata": {
    "id": "affGoy5pv73R"
   },
   "outputs": [],
   "source": [
    "def get_suitable_files(records):\n",
    "    suitable_records = []\n",
    "    for _, record in enumerate(records):\n",
    "        atr_lead = wfdb.rdann(os.path.join(folder_path, record), extension='q1c')\n",
    "        atr_symbols = np.unique(np.array(atr_lead.symbol))\n",
    "        is_fit = 't' in atr_symbols and 'N' in atr_symbols and 'p' in atr_symbols\n",
    "        if is_fit:\n",
    "            suitable_records.append(record)\n",
    "        else:\n",
    "            print(f'File {record} does not fully annotated.')\n",
    "    return suitable_records\n",
    "\n",
    "def get_data_without_gaps(signal, mask, size, signals, masks, gap=100):\n",
    "    start = 0\n",
    "    end = start + size\n",
    "\n",
    "    while end < mask.shape[0]:\n",
    "        gap_len = 0 # num of not annotated points\n",
    "        is_okay = True\n",
    "        \n",
    "        for i in range(start, end):\n",
    "            label = mask[i]\n",
    "            if gap_len > gap:\n",
    "                is_okay = False\n",
    "                break\n",
    "            elif label == 0:\n",
    "                gap_len += 1\n",
    "            else:\n",
    "                gap_len = 0\n",
    "\n",
    "        if is_okay:\n",
    "            signals.append(signal[start:end])\n",
    "            masks.append(mask[start:end])\n",
    "        \n",
    "        start += size\n",
    "        end = start + size"
   ]
  },
  {
   "cell_type": "code",
   "execution_count": null,
   "metadata": {
    "id": "jq4FcjodwzzM"
   },
   "outputs": [],
   "source": [
    "def create_QTDB_dataset(records, folder_path):\n",
    "    SIZE = 3000\n",
    "    signals_train, masks_train = [], []\n",
    "    signals_test, masks_test = [], []\n",
    "    \n",
    "    train_indexes = set(np.random.choice(98, 78, replace=False))\n",
    "    test_indexes = set(np.arange(98)) - train_indexes\n",
    "\n",
    "    for record_idx, name in enumerate(records):\n",
    "        record_path = os.path.join(folder_path, name)\n",
    "        record = wfdb.rdrecord(record_path)\n",
    "\n",
    "        for ext in ['q1c', 'pu1']:\n",
    "            atr_lead = wfdb.rdann(record_path, extension=ext)\n",
    "            atr_symbols = np.array(atr_lead.symbol)\n",
    "            atr_points = atr_lead.sample\n",
    "\n",
    "            lead = record.p_signal[:, 1] # get V2 lead\n",
    "            diff = 225000 - lead.shape[0]\n",
    "            if diff:\n",
    "                lead = np.append(lead, [0] * diff)\n",
    "\n",
    "            mask = create_annotation_mask(atr_symbols, atr_points, 225000)\n",
    "                \n",
    "            start_idx = np.where(mask != 0)[0][0]\n",
    "            end_idx = np.where(mask != 0)[0][-1]\n",
    "                \n",
    "            signal = lead[start_idx:end_idx]\n",
    "            mask = mask[start_idx:end_idx]\n",
    "            if record_idx in train_indexes:\n",
    "                get_data_without_gaps(signal, mask, SIZE, signals_train, masks_train)\n",
    "            else:\n",
    "                get_data_without_gaps(signal, mask, SIZE, signals_test, masks_test)\n",
    "        \n",
    "    return np.array(signals_train), np.array(masks_train), np.array(signals_test), np.array(masks_test)"
   ]
  },
  {
   "cell_type": "code",
   "execution_count": null,
   "metadata": {
    "colab": {
     "base_uri": "https://localhost:8080/"
    },
    "id": "IFkkhN1w89Nq",
    "outputId": "01af4ef3-532f-49a5-a281-172dce135459"
   },
   "outputs": [
    {
     "name": "stdout",
     "output_type": "stream",
     "text": [
      "File sel102 does not fully annotated.\n",
      "File sel221 does not fully annotated.\n",
      "File sel232 does not fully annotated.\n",
      "File sel310 does not fully annotated.\n",
      "File sel35 does not fully annotated.\n",
      "File sel37 does not fully annotated.\n",
      "File sel50 does not fully annotated.\n",
      "Число ЭКГ сигналов: 98\n"
     ]
    }
   ],
   "source": [
    "folder_path = 'physionet.org/files/qtdb/1.0.0'\n",
    "records = pd.read_csv(os.path.join(folder_path, 'RECORDS'), names=['num']).num.values\n",
    "records = get_suitable_files(records)\n",
    "print('Число ЭКГ сигналов:', len(records))"
   ]
  },
  {
   "cell_type": "code",
   "execution_count": null,
   "metadata": {
    "colab": {
     "base_uri": "https://localhost:8080/"
    },
    "id": "8VB8GWt6zkF8",
    "outputId": "5fe118d3-d5dc-4306-9905-4837f8a85aa9"
   },
   "outputs": [
    {
     "name": "stdout",
     "output_type": "stream",
     "text": [
      "Размерность тренировочного датасета: (2551, 3000)\n",
      "Размерность тестового датасета: (734, 3000)\n"
     ]
    }
   ],
   "source": [
    "qtdb_signals_train, qtdb_masks_train, qtdb_signals_test, qtdb_masks_test = create_QTDB_dataset(records, folder_path)\n",
    "print('Размерность тренировочного датасета:', qtdb_signals_train.shape)\n",
    "print('Размерность тестового датасета:', qtdb_signals_test.shape)"
   ]
  },
  {
   "cell_type": "code",
   "execution_count": null,
   "metadata": {
    "id": "p2A090CSOVAS"
   },
   "outputs": [],
   "source": [
    "with open('qtdb_signals_train.npy', 'wb') as f:\n",
    "    np.save(f, qtdb_signals_train)\n",
    "with open('qtdb_signals_test.npy', 'wb') as f:\n",
    "    np.save(f, qtdb_signals_test)\n",
    "with open('qtdb_masks_train.npy', 'wb') as f:\n",
    "    np.save(f, qtdb_masks_train)\n",
    "with open('qtdb_masks_test.npy', 'wb') as f:\n",
    "    np.save(f, qtdb_masks_test)"
   ]
  }
 ],
 "metadata": {
  "accelerator": "GPU",
  "colab": {
   "collapsed_sections": [],
   "name": "prepare_datasets.ipynb",
   "provenance": [],
   "toc_visible": true
  },
  "kernelspec": {
   "display_name": "Python 3",
   "language": "python",
   "name": "python3"
  },
  "language_info": {
   "codemirror_mode": {
    "name": "ipython",
    "version": 3
   },
   "file_extension": ".py",
   "mimetype": "text/x-python",
   "name": "python",
   "nbconvert_exporter": "python",
   "pygments_lexer": "ipython3",
   "version": "3.7.1"
  }
 },
 "nbformat": 4,
 "nbformat_minor": 1
}
